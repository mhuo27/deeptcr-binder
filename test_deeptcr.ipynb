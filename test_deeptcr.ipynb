{
  "cells": [
    {
      "cell_type": "code",
      "execution_count": null,
      "metadata": {},
      "outputs": [],
      "source": [
        "from DeepTCR.DeepTCR import DeepTCR\n",
        "dtcr = DeepTCR('test_project', device='cpu')\n",
        "print('✅ DeepTCR initialized successfully!')"
      ]
    }
  ],
  "metadata": {
    "kernelspec": {
      "display_name": "Python 3",
      "language": "python",
      "name": "python3"
    },
    "language_info": {
      "name": "python",
      "version": "3.7"
    }
  },
  "nbformat": 4,
  "nbformat_minor": 2
}
