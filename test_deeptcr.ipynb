print("Starting notebook, DeepTCR not imported yet.")

# When you need DeepTCR:
from DeepTCR.DeepTCR import DeepTCR
dtcr = DeepTCR('test_project', device='cpu')
print('✅ DeepTCR initialized successfully!')
