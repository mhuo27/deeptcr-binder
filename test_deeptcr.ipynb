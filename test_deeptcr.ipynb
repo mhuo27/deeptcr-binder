{
  "cells": [
    {
      "cell_type": "code",
      "metadata": {},
      "source": [
        "from DeepTCR.DeepTCR import DeepTCR\n",
        "dtcr = DeepTCR('test_project', device='cpu')\n",
        "print('✅ DeepTCR initialized successfully!')"
      ],
      "outputs": []
    }
  ],
  "metadata": {"kernelspec": {/* auto-fill */},"language_info": {/* auto-fill */}},
  "nbformat": 4,
  "nbformat_minor": 5
}
